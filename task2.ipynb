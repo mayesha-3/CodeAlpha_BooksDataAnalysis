{
 "cells": [
  {
   "cell_type": "markdown",
   "id": "e756df6c",
   "metadata": {},
   "source": [
    "Combining the csv files"
   ]
  },
  {
   "cell_type": "code",
   "execution_count": null,
   "id": "14e13594",
   "metadata": {},
   "outputs": [],
   "source": []
  },
  {
   "cell_type": "code",
   "execution_count": 18,
   "id": "e98e8a61",
   "metadata": {},
   "outputs": [],
   "source": [
    "import pandas as pd\n",
    "\n",
    "romance_df = pd.read_csv(\"romance_books.csv\")\n",
    "classics_df = pd.read_csv(\"classic_books.csv\")\n",
    "mystery_df = pd.read_csv(\"mysterY_books.csv\")\n",
    "science_fiction_df = pd.read_csv(\"scienceFiction_books.csv\")\n",
    "thriller_df = pd.read_csv(\"thriller_books.csv\")"
   ]
  },
  {
   "cell_type": "code",
   "execution_count": 19,
   "id": "ed07c2fa",
   "metadata": {},
   "outputs": [],
   "source": [
    "romance_df[\"Genre\"] = \"Romance\"\n",
    "classics_df[\"Genre\"] =  \"Classics\"\n",
    "mystery_df[\"Genre\"] =  \"Mystery\"\n",
    "science_fiction_df[\"Genre\"] =  \"Science Fiction\"\n",
    "thriller_df[\"Genre\"] =  \"Thriller\""
   ]
  },
  {
   "cell_type": "code",
   "execution_count": 20,
   "id": "a5e657f9",
   "metadata": {},
   "outputs": [],
   "source": [
    "all_books_df = pd.concat([romance_df, classics_df, mystery_df, science_fiction_df, thriller_df], ignore_index=True)\n",
    "all_books_df.to_csv(\"All_Books.csv\", index=False)\n"
   ]
  },
  {
   "cell_type": "code",
   "execution_count": 21,
   "id": "51dc176b",
   "metadata": {},
   "outputs": [
    {
     "data": {
      "text/html": [
       "<div>\n",
       "<style scoped>\n",
       "    .dataframe tbody tr th:only-of-type {\n",
       "        vertical-align: middle;\n",
       "    }\n",
       "\n",
       "    .dataframe tbody tr th {\n",
       "        vertical-align: top;\n",
       "    }\n",
       "\n",
       "    .dataframe thead th {\n",
       "        text-align: right;\n",
       "    }\n",
       "</style>\n",
       "<table border=\"1\" class=\"dataframe\">\n",
       "  <thead>\n",
       "    <tr style=\"text-align: right;\">\n",
       "      <th></th>\n",
       "      <th>Title</th>\n",
       "      <th>Price</th>\n",
       "      <th>Availability</th>\n",
       "      <th>Rating</th>\n",
       "      <th>Genre</th>\n",
       "    </tr>\n",
       "  </thead>\n",
       "  <tbody>\n",
       "    <tr>\n",
       "      <th>0</th>\n",
       "      <td>Chase Me (Paris Nights #2)</td>\n",
       "      <td>25.27</td>\n",
       "      <td>In stock</td>\n",
       "      <td>Five</td>\n",
       "      <td>Romance</td>\n",
       "    </tr>\n",
       "    <tr>\n",
       "      <th>1</th>\n",
       "      <td>Black Dust</td>\n",
       "      <td>34.53</td>\n",
       "      <td>In stock</td>\n",
       "      <td>Five</td>\n",
       "      <td>Romance</td>\n",
       "    </tr>\n",
       "    <tr>\n",
       "      <th>2</th>\n",
       "      <td>Her Backup Boyfriend (The Sorensen Family #1)</td>\n",
       "      <td>33.97</td>\n",
       "      <td>In stock</td>\n",
       "      <td>One</td>\n",
       "      <td>Romance</td>\n",
       "    </tr>\n",
       "    <tr>\n",
       "      <th>3</th>\n",
       "      <td>First and First (Five Boroughs #3)</td>\n",
       "      <td>15.97</td>\n",
       "      <td>In stock</td>\n",
       "      <td>Four</td>\n",
       "      <td>Romance</td>\n",
       "    </tr>\n",
       "    <tr>\n",
       "      <th>4</th>\n",
       "      <td>Fifty Shades Darker (Fifty Shades #2)</td>\n",
       "      <td>21.96</td>\n",
       "      <td>In stock</td>\n",
       "      <td>One</td>\n",
       "      <td>Romance</td>\n",
       "    </tr>\n",
       "    <tr>\n",
       "      <th>5</th>\n",
       "      <td>The Wedding Dress</td>\n",
       "      <td>24.12</td>\n",
       "      <td>In stock</td>\n",
       "      <td>One</td>\n",
       "      <td>Romance</td>\n",
       "    </tr>\n",
       "    <tr>\n",
       "      <th>6</th>\n",
       "      <td>Suddenly in Love (Lake Haven #1)</td>\n",
       "      <td>55.99</td>\n",
       "      <td>In stock</td>\n",
       "      <td>Two</td>\n",
       "      <td>Romance</td>\n",
       "    </tr>\n",
       "    <tr>\n",
       "      <th>7</th>\n",
       "      <td>Something More Than This</td>\n",
       "      <td>16.24</td>\n",
       "      <td>Stock out</td>\n",
       "      <td>Four</td>\n",
       "      <td>Romance</td>\n",
       "    </tr>\n",
       "    <tr>\n",
       "      <th>8</th>\n",
       "      <td>Doing It Over (Most Likely To #1)</td>\n",
       "      <td>35.61</td>\n",
       "      <td>In stock</td>\n",
       "      <td>Three</td>\n",
       "      <td>Romance</td>\n",
       "    </tr>\n",
       "    <tr>\n",
       "      <th>9</th>\n",
       "      <td>The Wedding Pact (The O'Malleys #2)</td>\n",
       "      <td>32.61</td>\n",
       "      <td>In stock</td>\n",
       "      <td>Three</td>\n",
       "      <td>Romance</td>\n",
       "    </tr>\n",
       "  </tbody>\n",
       "</table>\n",
       "</div>"
      ],
      "text/plain": [
       "                                           Title  Price Availability Rating  \\\n",
       "0                     Chase Me (Paris Nights #2)  25.27     In stock   Five   \n",
       "1                                     Black Dust  34.53     In stock   Five   \n",
       "2  Her Backup Boyfriend (The Sorensen Family #1)  33.97     In stock    One   \n",
       "3             First and First (Five Boroughs #3)  15.97     In stock   Four   \n",
       "4          Fifty Shades Darker (Fifty Shades #2)  21.96     In stock    One   \n",
       "5                              The Wedding Dress  24.12     In stock    One   \n",
       "6               Suddenly in Love (Lake Haven #1)  55.99     In stock    Two   \n",
       "7                       Something More Than This  16.24    Stock out   Four   \n",
       "8              Doing It Over (Most Likely To #1)  35.61     In stock  Three   \n",
       "9            The Wedding Pact (The O'Malleys #2)  32.61     In stock  Three   \n",
       "\n",
       "     Genre  \n",
       "0  Romance  \n",
       "1  Romance  \n",
       "2  Romance  \n",
       "3  Romance  \n",
       "4  Romance  \n",
       "5  Romance  \n",
       "6  Romance  \n",
       "7  Romance  \n",
       "8  Romance  \n",
       "9  Romance  "
      ]
     },
     "execution_count": 21,
     "metadata": {},
     "output_type": "execute_result"
    }
   ],
   "source": [
    "df= pd.read_csv(\"All_Books.csv\")\n",
    "\n",
    "df.head(10)\n"
   ]
  },
  {
   "cell_type": "code",
   "execution_count": 22,
   "id": "490d1162",
   "metadata": {},
   "outputs": [
    {
     "data": {
      "text/html": [
       "<div>\n",
       "<style scoped>\n",
       "    .dataframe tbody tr th:only-of-type {\n",
       "        vertical-align: middle;\n",
       "    }\n",
       "\n",
       "    .dataframe tbody tr th {\n",
       "        vertical-align: top;\n",
       "    }\n",
       "\n",
       "    .dataframe thead th {\n",
       "        text-align: right;\n",
       "    }\n",
       "</style>\n",
       "<table border=\"1\" class=\"dataframe\">\n",
       "  <thead>\n",
       "    <tr style=\"text-align: right;\">\n",
       "      <th></th>\n",
       "      <th>Title</th>\n",
       "      <th>Price</th>\n",
       "      <th>Availability</th>\n",
       "      <th>Rating</th>\n",
       "      <th>Genre</th>\n",
       "    </tr>\n",
       "  </thead>\n",
       "  <tbody>\n",
       "    <tr>\n",
       "      <th>103</th>\n",
       "      <td>The Elephant Tree</td>\n",
       "      <td>23.82</td>\n",
       "      <td>In stock</td>\n",
       "      <td>Five</td>\n",
       "      <td>Thriller</td>\n",
       "    </tr>\n",
       "    <tr>\n",
       "      <th>104</th>\n",
       "      <td>Behind Closed Doors</td>\n",
       "      <td>52.22</td>\n",
       "      <td>Stock out</td>\n",
       "      <td>Four</td>\n",
       "      <td>Thriller</td>\n",
       "    </tr>\n",
       "    <tr>\n",
       "      <th>105</th>\n",
       "      <td>You (You #1)</td>\n",
       "      <td>43.61</td>\n",
       "      <td>In stock</td>\n",
       "      <td>Five</td>\n",
       "      <td>Thriller</td>\n",
       "    </tr>\n",
       "    <tr>\n",
       "      <th>106</th>\n",
       "      <td>The Guilty (Will Robie #4)</td>\n",
       "      <td>13.82</td>\n",
       "      <td>In stock</td>\n",
       "      <td>Two</td>\n",
       "      <td>Thriller</td>\n",
       "    </tr>\n",
       "    <tr>\n",
       "      <th>107</th>\n",
       "      <td>The 14th Colony (Cotton Malone #11)</td>\n",
       "      <td>39.24</td>\n",
       "      <td>In stock</td>\n",
       "      <td>One</td>\n",
       "      <td>Thriller</td>\n",
       "    </tr>\n",
       "    <tr>\n",
       "      <th>108</th>\n",
       "      <td>Give It Back</td>\n",
       "      <td>18.32</td>\n",
       "      <td>In stock</td>\n",
       "      <td>Two</td>\n",
       "      <td>Thriller</td>\n",
       "    </tr>\n",
       "    <tr>\n",
       "      <th>109</th>\n",
       "      <td>Killing Floor (Jack Reacher #1)</td>\n",
       "      <td>31.49</td>\n",
       "      <td>In stock</td>\n",
       "      <td>Four</td>\n",
       "      <td>Thriller</td>\n",
       "    </tr>\n",
       "    <tr>\n",
       "      <th>110</th>\n",
       "      <td>The Bone Hunters (Lexy Vaughan &amp; Steven Macaul...</td>\n",
       "      <td>59.71</td>\n",
       "      <td>In stock</td>\n",
       "      <td>Three</td>\n",
       "      <td>Thriller</td>\n",
       "    </tr>\n",
       "    <tr>\n",
       "      <th>111</th>\n",
       "      <td>Far From True (Promise Falls Trilogy #2)</td>\n",
       "      <td>34.93</td>\n",
       "      <td>In stock</td>\n",
       "      <td>Two</td>\n",
       "      <td>Thriller</td>\n",
       "    </tr>\n",
       "    <tr>\n",
       "      <th>112</th>\n",
       "      <td>The Travelers</td>\n",
       "      <td>15.77</td>\n",
       "      <td>In stock</td>\n",
       "      <td>One</td>\n",
       "      <td>Thriller</td>\n",
       "    </tr>\n",
       "  </tbody>\n",
       "</table>\n",
       "</div>"
      ],
      "text/plain": [
       "                                                 Title  Price Availability  \\\n",
       "103                                  The Elephant Tree  23.82     In stock   \n",
       "104                                Behind Closed Doors  52.22    Stock out   \n",
       "105                                       You (You #1)  43.61     In stock   \n",
       "106                         The Guilty (Will Robie #4)  13.82     In stock   \n",
       "107                The 14th Colony (Cotton Malone #11)  39.24     In stock   \n",
       "108                                       Give It Back  18.32     In stock   \n",
       "109                    Killing Floor (Jack Reacher #1)  31.49     In stock   \n",
       "110  The Bone Hunters (Lexy Vaughan & Steven Macaul...  59.71     In stock   \n",
       "111           Far From True (Promise Falls Trilogy #2)  34.93     In stock   \n",
       "112                                      The Travelers  15.77     In stock   \n",
       "\n",
       "    Rating     Genre  \n",
       "103   Five  Thriller  \n",
       "104   Four  Thriller  \n",
       "105   Five  Thriller  \n",
       "106    Two  Thriller  \n",
       "107    One  Thriller  \n",
       "108    Two  Thriller  \n",
       "109   Four  Thriller  \n",
       "110  Three  Thriller  \n",
       "111    Two  Thriller  \n",
       "112    One  Thriller  "
      ]
     },
     "execution_count": 22,
     "metadata": {},
     "output_type": "execute_result"
    }
   ],
   "source": [
    "df.tail(10)"
   ]
  },
  {
   "cell_type": "code",
   "execution_count": 23,
   "id": "2ed351b5",
   "metadata": {},
   "outputs": [
    {
     "name": "stdout",
     "output_type": "stream",
     "text": [
      "<class 'pandas.core.frame.DataFrame'>\n",
      "RangeIndex: 113 entries, 0 to 112\n",
      "Data columns (total 5 columns):\n",
      " #   Column        Non-Null Count  Dtype  \n",
      "---  ------        --------------  -----  \n",
      " 0   Title         113 non-null    object \n",
      " 1   Price         113 non-null    float64\n",
      " 2   Availability  113 non-null    object \n",
      " 3   Rating        113 non-null    object \n",
      " 4   Genre         113 non-null    object \n",
      "dtypes: float64(1), object(4)\n",
      "memory usage: 4.5+ KB\n",
      "None\n"
     ]
    }
   ],
   "source": [
    "import matplotlib.pyplot as plt\n",
    "import seaborn as sns\n",
    "\n",
    "print(df.info())"
   ]
  },
  {
   "cell_type": "code",
   "execution_count": 24,
   "id": "5910eee7",
   "metadata": {},
   "outputs": [
    {
     "data": {
      "image/png": "[encoded data removed]",
      "text/plain": [
       "<Figure size 640x480 with 1 Axes>"
      ]
     },
     "metadata": {},
     "output_type": "display_data"
    }
   ],
   "source": [
    "rating_map = {\"One\": 1, \"Two\": 2, \"Three\": 3, \"Four\": 4, \"Five\": 5}\n",
    "df[\"Rating_Num\"] = df[\"Rating\"].map(rating_map)\n",
    "\n",
    "sns.countplot(x=\"Rating_Num\", hue=\"Genre\", data=df)\n",
    "plt.title(\"Rating Distribution by Genre\")\n",
    "plt.xlabel(\"Rating\")\n",
    "plt.show()\n"
   ]
  },
  {
   "cell_type": "code",
   "execution_count": 25,
   "id": "0585bfed",
   "metadata": {},
   "outputs": [
    {
     "data": {
      "image/png": "[encoded data removed]",
      "text/plain": [
       "<Figure size 640x480 with 1 Axes>"
      ]
     },
     "metadata": {},
     "output_type": "display_data"
    }
   ],
   "source": [
    "df[\"InStock\"] = df[\"Availability\"].str.contains(\"In stock\")\n",
    "stock_counts = df.groupby(\"Genre\")[\"InStock\"].value_counts().unstack()\n",
    "stock_counts.plot(kind=\"bar\", stacked=True)\n",
    "plt.title(\"Stock Status by Genre\")\n",
    "plt.ylabel(\"Number of Books\")\n",
    "plt.show()\n",
    "\n"
   ]
  },
  {
   "cell_type": "code",
   "execution_count": 26,
   "id": "66d46057",
   "metadata": {},
   "outputs": [
    {
     "name": "stdout",
     "output_type": "stream",
     "text": [
      "               Price  Rating_Num\n",
      "Price       1.000000    0.084367\n",
      "Rating_Num  0.084367    1.000000\n"
     ]
    }
   ],
   "source": [
    "print(df[[\"Price\", \"Rating_Num\"]].corr())\n"
   ]
  },
  {
   "cell_type": "code",
   "execution_count": 27,
   "id": "2622bd77",
   "metadata": {},
   "outputs": [
    {
     "name": "stdout",
     "output_type": "stream",
     "text": [
      "                                                 Title            Genre  Price\n",
      "89                                         The Project  Science Fiction  10.65\n",
      "61                Tastes Like Fear (DI Marnie Rome #3)          Mystery  10.69\n",
      "94   The Restaurant at the End of the Universe (Hit...  Science Fiction  10.92\n",
      "23                                Reservations for Two          Romance  11.10\n",
      "67                          Hide Away (Eve Duncan #20)          Mystery  11.84\n",
      "21          The Purest Hook (Second Circle Tattoos #3)          Romance  12.25\n",
      "82                                   The Girl You Lost          Mystery  12.29\n",
      "102                                        In Her Wake         Thriller  12.84\n",
      "18            Dark Lover (Black Dagger Brotherhood #1)          Romance  12.87\n",
      "19                 Changing the Game (Play by Play #2)          Romance  13.38\n",
      "                                                 Title     Genre  Price\n",
      "6                     Suddenly in Love (Lake Haven #1)   Romance  55.99\n",
      "20                                  A Walk to Remember   Romance  56.43\n",
      "56                                 The Past Never Ends   Mystery  56.50\n",
      "42                                         Animal Farm  Classics  57.22\n",
      "81   The No. 1 Ladies' Detective Agency (No. 1 Ladi...   Mystery  57.70\n",
      "41                                             Candide  Classics  58.63\n",
      "29                            Listen to Me (Fusion #1)   Romance  58.99\n",
      "68                       Boar Island (Anna Pigeon #19)   Mystery  59.48\n",
      "110  The Bone Hunters (Lexy Vaughan & Steven Macaul...  Thriller  59.71\n",
      "17                  The Perfect Play (Play by Play #1)   Romance  59.99\n"
     ]
    }
   ],
   "source": [
    "#ascending order of price\n",
    "sorted_by_price = df.sort_values(by=\"Price\")\n",
    "print(sorted_by_price[[\"Title\", \"Genre\", \"Price\"]].head(10))\n",
    "print(sorted_by_price[[\"Title\",\"Genre\", \"Price\"]].tail(10))"
   ]
  },
  {
   "cell_type": "code",
   "execution_count": 28,
   "id": "7cf2c1cf",
   "metadata": {},
   "outputs": [
    {
     "data": {
      "image/png": "[encoded data removed]",
      "text/plain": [
       "<Figure size 640x480 with 1 Axes>"
      ]
     },
     "metadata": {},
     "output_type": "display_data"
    }
   ],
   "source": [
    "sns.scatterplot(x=\"Rating_Num\", y=\"Price\", hue=\"Genre\", data=df)\n",
    "plt.title(\"Price vs Rating by Genre\")\n",
    "plt.show()\n"
   ]
  },
  {
   "cell_type": "code",
   "execution_count": null,
   "id": "05e8eaa3",
   "metadata": {},
   "outputs": [
    {
     "name": "stdout",
     "output_type": "stream",
     "text": [
      "['in stock' 'stock out']\n",
      "                                        Title  Price Availability Rating  \\\n",
      "7                    Something More Than This  16.24    stock out   Four   \n",
      "18   Dark Lover (Black Dagger Brotherhood #1)  12.87    stock out    One   \n",
      "44                 The Picture of Dorian Gray  29.70    stock out    Two   \n",
      "51                            Of Mice and Men  47.11    stock out    Two   \n",
      "67                 Hide Away (Eve Duncan #20)  11.84    stock out    One   \n",
      "84       Blood Defense (Samantha Brinkman #1)  20.30    stock out  Three   \n",
      "91          Sleeping Giants (Themis Files #1)  48.74    stock out    One   \n",
      "104                       Behind Closed Doors  52.22    stock out   Four   \n",
      "\n",
      "               Genre  Rating_Num  InStock  \n",
      "7            Romance           4    False  \n",
      "18           Romance           1    False  \n",
      "44          Classics           2    False  \n",
      "51          Classics           2    False  \n",
      "67           Mystery           1    False  \n",
      "84           Mystery           3    False  \n",
      "91   Science Fiction           1    False  \n",
      "104         Thriller           4    False  \n"
     ]
    }
   ],
   "source": [
    "print(df[\"Availability\"].unique())\n",
    "\n",
    "df[\"Availability\"] = df[\"Availability\"].str.strip().str.lower()\n",
    "\n",
    "stock_out_books = df[df[\"Availability\"] == \"stock out\"]\n",
    "print(stock_out_books)\n"
   ]
  }
 ],
 "metadata": {
  "kernelspec": {
   "display_name": "Python 3",
   "language": "python",
   "name": "python3"
  },
  "language_info": {
   "codemirror_mode": {
    "name": "ipython",
    "version": 3
   },
   "file_extension": ".py",
   "mimetype": "text/x-python",
   "name": "python",
   "nbconvert_exporter": "python",
   "pygments_lexer": "ipython3",
   "version": "3.11.9"
  }
 },
 "nbformat": 4,
 "nbformat_minor": 5
}
